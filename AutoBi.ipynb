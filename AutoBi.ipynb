{
 "cells": [
  {
   "cell_type": "code",
   "execution_count": 1,
   "id": "eb9dde9e",
   "metadata": {},
   "outputs": [],
   "source": [
    "from langchain.agents import create_csv_agent\n",
    "import os"
   ]
  },
  {
   "cell_type": "code",
   "execution_count": 2,
   "id": "f63e2b55",
   "metadata": {},
   "outputs": [],
   "source": [
    "from langchain.llms import OpenAI\n",
    "from langchain.chat_models import ChatOpenAI\n",
    "from langchain.agents.agent_types import AgentType"
   ]
  },
  {
   "cell_type": "code",
   "execution_count": 3,
   "id": "048a3274",
   "metadata": {},
   "outputs": [],
   "source": [
    "OpenAI.api_key = os.getenv('OPENAI_API_KEY')"
   ]
  },
  {
   "cell_type": "code",
   "execution_count": 4,
   "id": "9cd2f0c7",
   "metadata": {},
   "outputs": [],
   "source": [
    "agent = create_csv_agent(\n",
    "    OpenAI(temperature=0), \n",
    "    'data.csv', \n",
    "    verbose=True, \n",
    "    agent_type=AgentType.ZERO_SHOT_REACT_DESCRIPTION\n",
    ")"
   ]
  },
  {
   "cell_type": "code",
   "execution_count": 5,
   "id": "d63510b6",
   "metadata": {},
   "outputs": [
    {
     "name": "stdout",
     "output_type": "stream",
     "text": [
      "\n",
      "\n",
      "\u001b[1m> Entering new  chain...\u001b[0m\n",
      "\u001b[32;1m\u001b[1;3mThought: I need to count the number of orders\n",
      "Action: python_repl_ast\n",
      "Action Input: df['Order ID'].nunique()\u001b[0m\n",
      "Observation: \u001b[36;1m\u001b[1;3m685\u001b[0m\n",
      "Thought:\u001b[32;1m\u001b[1;3m I now know the final answer\n",
      "Final Answer: There are 685 orders.\u001b[0m\n",
      "\n",
      "\u001b[1m> Finished chain.\u001b[0m\n"
     ]
    },
    {
     "data": {
      "text/plain": [
       "'There are 685 orders.'"
      ]
     },
     "execution_count": 5,
     "metadata": {},
     "output_type": "execute_result"
    }
   ],
   "source": [
    "agent.run(\"how many orders are there?\")"
   ]
  },
  {
   "cell_type": "code",
   "execution_count": 6,
   "id": "3befea4b",
   "metadata": {},
   "outputs": [
    {
     "name": "stdout",
     "output_type": "stream",
     "text": [
      "\n",
      "\n",
      "\u001b[1m> Entering new  chain...\u001b[0m\n",
      "\u001b[32;1m\u001b[1;3mThought: I need to filter the dataframe to only include Fruits and then sum the Total Revenue column\n",
      "Action: python_repl_ast\n",
      "Action Input: df[df['Item Type'] == 'Fruits']['Total Revenue'].sum()\u001b[0m\n",
      "Observation: \u001b[36;1m\u001b[1;3m2443573.65\u001b[0m\n",
      "Thought:\u001b[32;1m\u001b[1;3m I now know the final answer\n",
      "Final Answer: The total revenue of Fruits sale for all countries is 2,443,573.65.\u001b[0m\n",
      "\n",
      "\u001b[1m> Finished chain.\u001b[0m\n"
     ]
    },
    {
     "data": {
      "text/plain": [
       "'The total revenue of Fruits sale for all countries is 2,443,573.65.'"
      ]
     },
     "execution_count": 6,
     "metadata": {},
     "output_type": "execute_result"
    }
   ],
   "source": [
    "agent.run(\"what is the total revenue of Fruits sale for all countries?\")"
   ]
  },
  {
   "cell_type": "code",
   "execution_count": 9,
   "id": "07c1ae5a",
   "metadata": {},
   "outputs": [
    {
     "name": "stdout",
     "output_type": "stream",
     "text": [
      "\n",
      "\n",
      "\u001b[1m> Entering new  chain...\u001b[0m\n",
      "\u001b[32;1m\u001b[1;3mThought: I need to find the country with the highest total profit\n",
      "Action: python_repl_ast\n",
      "Action Input: df.groupby('Country')['Total Profit'].sum().sort_values(ascending=False).head(1)\u001b[0m\n",
      "Observation: \u001b[36;1m\u001b[1;3mCountry\n",
      "Papua New Guinea    4667031.21\n",
      "Name: Total Profit, dtype: float64\u001b[0m\n",
      "Thought:\u001b[32;1m\u001b[1;3m I now know the final answer\n",
      "Final Answer: Papua New Guinea has the highest total profit of 4,667,031.21.\u001b[0m\n",
      "\n",
      "\u001b[1m> Finished chain.\u001b[0m\n"
     ]
    },
    {
     "data": {
      "text/plain": [
       "'Papua New Guinea has the highest total profit of 4,667,031.21.'"
      ]
     },
     "execution_count": 9,
     "metadata": {},
     "output_type": "execute_result"
    }
   ],
   "source": [
    "agent.run(\"which country gives highest total profit summed up and how much? \")"
   ]
  },
  {
   "cell_type": "code",
   "execution_count": 20,
   "id": "5fe27728",
   "metadata": {},
   "outputs": [
    {
     "name": "stdout",
     "output_type": "stream",
     "text": [
      "\n",
      "\n",
      "\u001b[1m> Entering new  chain...\u001b[0m\n",
      "\u001b[32;1m\u001b[1;3mThought: I need to group the data by country and sum the total profits\n",
      "Action: python_repl_ast\n",
      "Action Input: df.groupby('Country')['Total Profit'].sum().sort_values(ascending=False).head(5).plot.bar()\u001b[0m\n",
      "Observation: \u001b[36;1m\u001b[1;3mAxes(0.125,0.11;0.775x0.77)\u001b[0m\n",
      "Thought:\u001b[32;1m\u001b[1;3m I now know the final answer\n",
      "Final Answer: A bar graph with sum of total profits on y axis for top 5 countries.\u001b[0m\n",
      "\n",
      "\u001b[1m> Finished chain.\u001b[0m\n"
     ]
    },
    {
     "data": {
      "text/plain": [
       "'A bar graph with sum of total profits on y axis for top 5 countries.'"
      ]
     },
     "execution_count": 20,
     "metadata": {},
     "output_type": "execute_result"
    },
    {
     "data": {
      "image/png": "[encoded data removed]",
      "text/plain": [
       "<Figure size 640x480 with 1 Axes>"
      ]
     },
     "metadata": {},
     "output_type": "display_data"
    }
   ],
   "source": [
    "agent.run(\"show me a bar graph for top 5 countries with highest total profit summed up\")"
   ]
  },
  {
   "cell_type": "code",
   "execution_count": 19,
   "id": "8846ecbd",
   "metadata": {},
   "outputs": [
    {
     "name": "stdout",
     "output_type": "stream",
     "text": [
      "\n",
      "\n",
      "\u001b[1m> Entering new  chain...\u001b[0m\n",
      "\u001b[32;1m\u001b[1;3mThought: I need to calculate the total profit for each rep and then sort them by percentage of profit\n",
      "Action: python_repl_ast\n",
      "Action Input: df.groupby('Rep Name')['Total Profit'].sum().sort_values(ascending=False)\u001b[0m\n",
      "Observation: \u001b[36;1m\u001b[1;3mRep Name\n",
      "Una Terry                1726181.36\n",
      "Lucas McLean             1714010.46\n",
      "Sophie Roberts           1697666.68\n",
      "Jacob Brown              1682887.73\n",
      "Kimberly Oliver          1641058.46\n",
      "                            ...    \n",
      "Christopher Robertson       1937.64\n",
      "Jessica Lyman               1785.24\n",
      "Molly Blake                  927.85\n",
      "Angela Welch                 706.13\n",
      "Leonard Paterson             660.34\n",
      "Name: Total Profit, Length: 685, dtype: float64\u001b[0m\n",
      "Thought:\u001b[32;1m\u001b[1;3m I need to calculate the percentage of profit for each rep\n",
      "Action: python_repl_ast\n",
      "Action Input: df.groupby('Rep Name')['Total Profit'].sum().sort_values(ascending=False)/df['Total Profit'].sum()\u001b[0m\n",
      "Observation: \u001b[36;1m\u001b[1;3mRep Name\n",
      "Una Terry                0.006668\n",
      "Lucas McLean             0.006621\n",
      "Sophie Roberts           0.006557\n",
      "Jacob Brown              0.006500\n",
      "Kimberly Oliver          0.006339\n",
      "                           ...   \n",
      "Christopher Robertson    0.000007\n",
      "Jessica Lyman            0.000007\n",
      "Molly Blake              0.000004\n",
      "Angela Welch             0.000003\n",
      "Leonard Paterson         0.000003\n",
      "Name: Total Profit, Length: 685, dtype: float64\u001b[0m\n",
      "Thought:\u001b[32;1m\u001b[1;3m I now know the final answer\n",
      "Final Answer: Una Terry, Lucas McLean, and Sophie Roberts are the most successful reps, with Una Terry having the highest percentage of profit for the sales they made.\u001b[0m\n",
      "\n",
      "\u001b[1m> Finished chain.\u001b[0m\n"
     ]
    },
    {
     "data": {
      "text/plain": [
       "'Una Terry, Lucas McLean, and Sophie Roberts are the most successful reps, with Una Terry having the highest percentage of profit for the sales they made.'"
      ]
     },
     "execution_count": 19,
     "metadata": {},
     "output_type": "execute_result"
    }
   ],
   "source": [
    "agent.run(\"who is most successful rep? also please show me top 3 rep names by percentage of profit for the sales they made\")"
   ]
  },
  {
   "cell_type": "code",
   "execution_count": 21,
   "id": "d5c78d04",
   "metadata": {},
   "outputs": [
    {
     "name": "stdout",
     "output_type": "stream",
     "text": [
      "\n",
      "\n",
      "\u001b[1m> Entering new  chain...\u001b[0m\n",
      "\u001b[32;1m\u001b[1;3mThought: I need to find the country with the highest total units sold of make up products\n",
      "Action: python_repl_ast\n",
      "Action Input: df[df['Item Type'] == 'Cosmetics'].groupby('Country')['Units Sold'].sum().sort_values(ascending=False).head(1)\u001b[0m\n",
      "Observation: \u001b[36;1m\u001b[1;3mCountry\n",
      "Belgium    9928\n",
      "Name: Units Sold, dtype: int64\u001b[0m\n",
      "Thought:\u001b[32;1m\u001b[1;3m I now know the final answer\n",
      "Final Answer: Belgium\u001b[0m\n",
      "\n",
      "\u001b[1m> Finished chain.\u001b[0m\n"
     ]
    },
    {
     "data": {
      "text/plain": [
       "'Belgium'"
      ]
     },
     "execution_count": 21,
     "metadata": {},
     "output_type": "execute_result"
    }
   ],
   "source": [
    "agent.run(\"which country uses most make up products overall?\")"
   ]
  },
  {
   "cell_type": "code",
   "execution_count": 26,
   "id": "dc25f5fb",
   "metadata": {},
   "outputs": [
    {
     "name": "stdout",
     "output_type": "stream",
     "text": [
      "\n",
      "\n",
      "\u001b[1m> Entering new  chain...\u001b[0m\n",
      "\u001b[32;1m\u001b[1;3mThought: I need to find the product with the highest total revenue\n",
      "Action: python_repl_ast\n",
      "Action Input: df.groupby('Item Type')['Total Revenue'].sum().sort_values(ascending=False)\u001b[0m\n",
      "Observation: \u001b[36;1m\u001b[1;3mItem Type\n",
      "Office Supplies    1.869500e+08\n",
      "Household          1.737883e+08\n",
      "Meat               1.215166e+08\n",
      "Cosmetics          1.182036e+08\n",
      "Baby Food          7.025663e+07\n",
      "Vegetables         5.033541e+07\n",
      "Cereal             4.969979e+07\n",
      "Snacks             4.563286e+07\n",
      "Clothes            2.545186e+07\n",
      "Personal Care      2.385486e+07\n",
      "Beverages          1.852125e+07\n",
      "Fruits             2.443574e+06\n",
      "Name: Total Revenue, dtype: float64\u001b[0m\n",
      "Thought:\u001b[32;1m\u001b[1;3m Office Supplies has the highest total revenue\n",
      "Final Answer: Office Supplies has the highest total revenue.\u001b[0m\n",
      "\n",
      "\u001b[1m> Finished chain.\u001b[0m\n"
     ]
    },
    {
     "data": {
      "text/plain": [
       "'Office Supplies has the highest total revenue.'"
      ]
     },
     "execution_count": 26,
     "metadata": {},
     "output_type": "execute_result"
    }
   ],
   "source": [
    "agent.run(\"which product has highest total revenue summed up?\")"
   ]
  },
  {
   "cell_type": "code",
   "execution_count": null,
   "id": "b3903d5b",
   "metadata": {},
   "outputs": [],
   "source": [
    "agent.run(\"what is the most profitable product? sum up the values if required\")"
   ]
  },
  {
   "cell_type": "code",
   "execution_count": 7,
   "id": "4b8bce56",
   "metadata": {},
   "outputs": [
    {
     "name": "stdout",
     "output_type": "stream",
     "text": [
      "\n",
      "\n",
      "\u001b[1m> Entering new  chain...\u001b[0m\n",
      "\u001b[32;1m\u001b[1;3mThought: I need to group the data by year and sum the units sold\n",
      "Action: python_repl_ast\n",
      "Action Input: df.groupby('Order_Year')['Units Sold'].sum().plot.bar()\u001b[0m\n",
      "Observation: \u001b[36;1m\u001b[1;3mAxes(0.125,0.11;0.775x0.77)\u001b[0m\n",
      "Thought:\u001b[32;1m\u001b[1;3m I now know the final answer\n",
      "Final Answer: A bar graph of total units sold by year.\u001b[0m\n",
      "\n",
      "\u001b[1m> Finished chain.\u001b[0m\n"
     ]
    },
    {
     "data": {
      "text/plain": [
       "'A bar graph of total units sold by year.'"
      ]
     },
     "execution_count": 7,
     "metadata": {},
     "output_type": "execute_result"
    },
    {
     "data": {
      "image/png": "[encoded data removed]",
      "text/plain": [
       "<Figure size 640x480 with 1 Axes>"
      ]
     },
     "metadata": {},
     "output_type": "display_data"
    }
   ],
   "source": [
    "agent.run(\"show me a bar graph of total units sold by year\")"
   ]
  },
  {
   "cell_type": "code",
   "execution_count": 11,
   "id": "6c301c50",
   "metadata": {},
   "outputs": [
    {
     "name": "stdout",
     "output_type": "stream",
     "text": [
      "\n",
      "\n",
      "\u001b[1m> Entering new  chain...\u001b[0m\n",
      "\u001b[32;1m\u001b[1;3mThought: I need to group the data by year and sum the profits\n",
      "Action: python_repl_ast\n",
      "Action Input: df.groupby('Order_Year')['Total Profit'].sum().plot.pie(autopct='%1.1f%%', labels=df.Order_Year.unique())\u001b[0m\n",
      "Observation: \u001b[36;1m\u001b[1;3mAxes(0.22375,0.11;0.5775x0.77)\u001b[0m\n",
      "Thought:\u001b[32;1m\u001b[1;3m I now know the final answer\n",
      "Final Answer: A pie chart of yearwise sum of profits with appropriate labels.\u001b[0m\n",
      "\n",
      "\u001b[1m> Finished chain.\u001b[0m\n"
     ]
    },
    {
     "data": {
      "text/plain": [
       "'A pie chart of yearwise sum of profits with appropriate labels.'"
      ]
     },
     "execution_count": 11,
     "metadata": {},
     "output_type": "execute_result"
    },
    {
     "data": {
      "image/png": "[encoded data removed]",
      "text/plain": [
       "<Figure size 640x480 with 1 Axes>"
      ]
     },
     "metadata": {},
     "output_type": "display_data"
    }
   ],
   "source": [
    "agent.run(\"show me a pi chart of yearwise sum of profits. Also add appropriate lables to the graph.\") "
   ]
  },
  {
   "cell_type": "code",
   "execution_count": null,
   "id": "7ba4ae3e",
   "metadata": {},
   "outputs": [],
   "source": [
    "agent.run(\"which is the least profitable product across all the years and coutnties\")"
   ]
  },
  {
   "cell_type": "code",
   "execution_count": null,
   "id": "45045bce",
   "metadata": {},
   "outputs": [],
   "source": [
    "agent.run(\"what is the average profit percentage across all products in India\")"
   ]
  },
  {
   "cell_type": "code",
   "execution_count": 9,
   "id": "d8936266",
   "metadata": {},
   "outputs": [
    {
     "name": "stdout",
     "output_type": "stream",
     "text": [
      "\n",
      "\n",
      "\u001b[1m> Entering new  chain...\u001b[0m\n",
      "\u001b[32;1m\u001b[1;3mThought: I need to check the Item Type column\n",
      "Action: python_repl_ast\n",
      "Action Input: df['Item Type'].unique()\u001b[0m\n",
      "Observation: \u001b[36;1m\u001b[1;3m['Cosmetics' 'Vegetables' 'Cereal' 'Fruits' 'Clothes' 'Snacks' 'Beverages'\n",
      " 'Household' 'Personal Care' 'Baby Food' 'Office Supplies' 'Meat']\u001b[0m\n",
      "Thought:\u001b[32;1m\u001b[1;3m Mobile phones are not in the list\n",
      "Final Answer: No, we do not sell mobile phones.\u001b[0m\n",
      "\n",
      "\u001b[1m> Finished chain.\u001b[0m\n"
     ]
    },
    {
     "data": {
      "text/plain": [
       "'No, we do not sell mobile phones.'"
      ]
     },
     "execution_count": 9,
     "metadata": {},
     "output_type": "execute_result"
    }
   ],
   "source": [
    "agent.run(\"do we sell mobile phones?\")"
   ]
  },
  {
   "cell_type": "code",
   "execution_count": 10,
   "id": "f455ecba",
   "metadata": {},
   "outputs": [
    {
     "name": "stdout",
     "output_type": "stream",
     "text": [
      "\n",
      "\n",
      "\u001b[1m> Entering new  chain...\u001b[0m\n",
      "\u001b[32;1m\u001b[1;3mThought: I need to check what items we sell\n",
      "Action: python_repl_ast\n",
      "Action Input: df['Item Type'].unique()\u001b[0m\n",
      "Observation: \u001b[36;1m\u001b[1;3m['Cosmetics' 'Vegetables' 'Cereal' 'Fruits' 'Clothes' 'Snacks' 'Beverages'\n",
      " 'Household' 'Personal Care' 'Baby Food' 'Office Supplies' 'Meat']\u001b[0m\n",
      "Thought:\u001b[32;1m\u001b[1;3m Snacks are included in the list\n",
      "Final Answer: Yes, we sell snacks.\u001b[0m\n",
      "\n",
      "\u001b[1m> Finished chain.\u001b[0m\n"
     ]
    },
    {
     "data": {
      "text/plain": [
       "'Yes, we sell snacks.'"
      ]
     },
     "execution_count": 10,
     "metadata": {},
     "output_type": "execute_result"
    }
   ],
   "source": [
    "agent.run(\"do we sell snacks?\")"
   ]
  },
  {
   "cell_type": "code",
   "execution_count": null,
   "id": "8828fb3c",
   "metadata": {},
   "outputs": [],
   "source": []
  }
 ],
 "metadata": {
  "kernelspec": {
   "display_name": "openai",
   "language": "python",
   "name": "openai"
  },
  "language_info": {
   "codemirror_mode": {
    "name": "ipython",
    "version": 3
   },
   "file_extension": ".py",
   "mimetype": "text/x-python",
   "name": "python",
   "nbconvert_exporter": "python",
   "pygments_lexer": "ipython3",
   "version": "3.11.3"
  }
 },
 "nbformat": 4,
 "nbformat_minor": 5
}
